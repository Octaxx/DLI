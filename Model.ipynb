{
  "nbformat": 4,
  "nbformat_minor": 0,
  "metadata": {
    "colab": {
      "provenance": [],
      "authorship_tag": "ABX9TyMWqnnrFLTf+zpZv7ML+OPE",
      "include_colab_link": true
    },
    "kernelspec": {
      "name": "python3",
      "display_name": "Python 3"
    },
    "language_info": {
      "name": "python"
    }
  },
  "cells": [
    {
      "cell_type": "markdown",
      "metadata": {
        "id": "view-in-github",
        "colab_type": "text"
      },
      "source": [
        "<a href=\"https://colab.research.google.com/github/Octaxx/DLI/blob/main/Model.ipynb\" target=\"_parent\"><img src=\"https://colab.research.google.com/assets/colab-badge.svg\" alt=\"Open In Colab\"/></a>"
      ]
    },
    {
      "cell_type": "code",
      "execution_count": null,
      "metadata": {
        "id": "Wb20vlj9cHAY"
      },
      "outputs": [],
      "source": [
        "from google.colab import drive\n",
        "drive.mount('/content/drive')"
      ]
    },
    {
      "cell_type": "code",
      "source": [
        "import pandas as pd\n",
        "from sklearn.utils import resample\n",
        "from sklearn.model_selection import train_test_split\n",
        "from sklearn.feature_extraction.text import TfidfVectorizer\n",
        "from sklearn.naive_bayes import MultinomialNB\n",
        "from sklearn.metrics import accuracy_score, classification_report, confusion_matrix\n",
        "\n",
        "\n",
        "url = \"https://raw.githubusercontent.com/Octaxx/DLI/main/CEAS_08.csv\"\n",
        "df = pd.read_csv(url)"
      ],
      "metadata": {
        "id": "tE09MBWhcQBc"
      },
      "execution_count": null,
      "outputs": []
    },
    {
      "cell_type": "code",
      "source": [
        "df['text'] = df['subject'].fillna('') + ' ' + df['body'].fillna('')\n",
        "\n",
        "X = df['text']\n",
        "y = df['label']"
      ],
      "metadata": {
        "id": "I6SoaIs4cpda"
      },
      "execution_count": null,
      "outputs": []
    },
    {
      "cell_type": "code",
      "source": [
        "# Sets how many times to train & test the model\n",
        "num_runs = 10\n",
        "total_accuracy = 0\n",
        "\n",
        "for run in range(num_runs):\n",
        "    print(f\"\\n=== Run {run + 1}/{num_runs} ===\")\n",
        "\n",
        "    # TF-IDF Vectorization\n",
        "    vectorizer = TfidfVectorizer(stop_words='english', max_features=5000, ngram_range=(1, 2), min_df=2)\n",
        "    X_tfidf = vectorizer.fit_transform(X)\n",
        "\n",
        "    # Train-Test Split\n",
        "    X_train, X_test, y_train, y_test = train_test_split(X_tfidf, y, test_size=0.2, random_state=run, stratify=y)\n",
        "\n",
        "    # Naive Bayes Model\n",
        "    model = MultinomialNB(alpha=1.0)\n",
        "    model.fit(X_train, y_train)\n",
        "\n",
        "    # Predictions & Evaluation\n",
        "    y_pred = model.predict(X_test)\n",
        "\n",
        "    # Accuracy for this run\n",
        "    accuracy = accuracy_score(y_test, y_pred)\n",
        "    total_accuracy += accuracy\n",
        "\n",
        "    print(\"Accuracy:\", accuracy)\n"
      ],
      "metadata": {
        "id": "xgddvxYkdkeL"
      },
      "execution_count": null,
      "outputs": []
    }
  ]
}