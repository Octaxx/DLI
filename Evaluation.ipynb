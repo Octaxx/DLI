{
  "nbformat": 4,
  "nbformat_minor": 0,
  "metadata": {
    "colab": {
      "provenance": [],
      "include_colab_link": true
    },
    "kernelspec": {
      "name": "python3",
      "display_name": "Python 3"
    },
    "language_info": {
      "name": "python"
    }
  },
  "cells": [
    {
      "cell_type": "markdown",
      "metadata": {
        "id": "view-in-github",
        "colab_type": "text"
      },
      "source": [
        "<a href=\"https://colab.research.google.com/github/Octaxx/DLI/blob/main/Evaluation.ipynb\" target=\"_parent\"><img src=\"https://colab.research.google.com/assets/colab-badge.svg\" alt=\"Open In Colab\"/></a>"
      ]
    },
    {
      "cell_type": "code",
      "execution_count": null,
      "metadata": {
        "id": "Wb20vlj9cHAY",
        "outputId": "0a2b93c6-7061-4117-c231-77198a59689b",
        "colab": {
          "base_uri": "https://localhost:8080/"
        }
      },
      "outputs": [
        {
          "output_type": "stream",
          "name": "stdout",
          "text": [
            "Mounted at /content/drive\n"
          ]
        }
      ],
      "source": [
        "from google.colab import drive\n",
        "drive.mount('/content/drive')"
      ]
    },
    {
      "cell_type": "code",
      "source": [
        "import pandas as pd\n",
        "from sklearn.utils import resample\n",
        "from sklearn.model_selection import train_test_split\n",
        "from sklearn.feature_extraction.text import TfidfVectorizer\n",
        "from sklearn.naive_bayes import MultinomialNB\n",
        "from sklearn.metrics import accuracy_score, classification_report, confusion_matrix, ConfusionMatrixDisplay\n",
        "\n",
        "\n",
        "url = \"https://raw.githubusercontent.com/Octaxx/DLI/main/CEAS_08.csv\"\n",
        "df = pd.read_csv(url)"
      ],
      "metadata": {
        "id": "tE09MBWhcQBc"
      },
      "execution_count": null,
      "outputs": []
    },
    {
      "cell_type": "code",
      "source": [
        "df['text'] = df['subject'].fillna('') + ' ' + df['body'].fillna('')\n",
        "\n",
        "X = df['text']\n",
        "y = df['label']"
      ],
      "metadata": {
        "id": "I6SoaIs4cpda"
      },
      "execution_count": null,
      "outputs": []
    },
    {
      "cell_type": "code",
      "source": [
        "# Sets how many times to train & test the model\n",
        "num_runs = 10\n",
        "total_accuracy = 0\n",
        "\n",
        "for run in range(num_runs):\n",
        "    print(f\"\\n=== Run {run + 1}/{num_runs} ===\")\n",
        "\n",
        "    # TF-IDF Vectorization\n",
        "    vectorizer = TfidfVectorizer(stop_words='english', max_features=5000, ngram_range=(1, 2), min_df=2)\n",
        "    X_tfidf = vectorizer.fit_transform(X)\n",
        "\n",
        "    # Train-Test Split\n",
        "    X_train, X_test, y_train, y_test = train_test_split(X_tfidf, y, test_size=0.2, random_state=run, stratify=y)\n",
        "\n",
        "    # Naive Bayes Model\n",
        "    model = MultinomialNB(alpha=1.0)\n",
        "    model.fit(X_train, y_train)\n",
        "\n",
        "    # Predictions & Evaluation\n",
        "    y_pred = model.predict(X_test)\n",
        "\n",
        "    # Accuracy for this run\n",
        "    accuracy = accuracy_score(y_test, y_pred)\n",
        "    total_accuracy += accuracy\n",
        "\n",
        "    print(\"Accuracy:\", accuracy)\n",
        "\n",
        "avg_accuracy = total_accuracy / num_runs\n",
        "print(f\"\\n✅ Average Accuracy over {num_runs} runs: {avg_accuracy:.4f}\")"
      ],
      "metadata": {
        "id": "xgddvxYkdkeL",
        "outputId": "7b2574bf-8fc1-434f-c200-aed82ea0fcb7",
        "colab": {
          "base_uri": "https://localhost:8080/"
        }
      },
      "execution_count": null,
      "outputs": [
        {
          "output_type": "stream",
          "name": "stdout",
          "text": [
            "\n",
            "=== Run 1/10 ===\n",
            "Accuracy: 0.9730558038564678\n",
            "\n",
            "=== Run 2/10 ===\n",
            "Accuracy: 0.9701187587792108\n",
            "\n",
            "=== Run 3/10 ===\n",
            "Accuracy: 0.9736942919167412\n",
            "\n",
            "=== Run 4/10 ===\n",
            "Accuracy: 0.9699910611671562\n",
            "\n",
            "=== Run 5/10 ===\n",
            "Accuracy: 0.9731835014685225\n",
            "\n",
            "=== Run 6/10 ===\n",
            "Accuracy: 0.9725450134082493\n",
            "\n",
            "=== Run 7/10 ===\n",
            "Accuracy: 0.9697356659430468\n",
            "\n",
            "=== Run 8/10 ===\n",
            "Accuracy: 0.9724173157961946\n",
            "\n",
            "=== Run 9/10 ===\n",
            "Accuracy: 0.9772698250542715\n",
            "\n",
            "=== Run 10/10 ===\n",
            "Accuracy: 0.9713957348997574\n",
            "\n",
            "✅ Average Accuracy over 10 runs: 0.9723\n"
          ]
        }
      ]
    },
    {
      "cell_type": "code",
      "source": [
        "# Save the model\n",
        "import pickle\n",
        "with open('/content/drive/My Drive/Colab Notebooks/model.pkl', 'wb') as model_file:\n",
        "    pickle.dump(model, model_file)\n",
        "\n",
        "with open('/content/drive/My Drive/Colab Notebooks/vectorizer.pkl', 'wb') as vectorizer_file:\n",
        "    pickle.dump(vectorizer, vectorizer_file)"
      ],
      "metadata": {
        "id": "uq5qmoheeXVs"
      },
      "execution_count": null,
      "outputs": []
    },
    {
      "cell_type": "code",
      "source": [
        "print(\"\\n======== Email Spam Detection ========\")\n",
        "\n",
        "# Take user input\n",
        "user_input = input(\"Enter your email text: \")\n",
        "\n",
        "user_input_tfidf = vectorizer.transform([user_input])\n",
        "prediction = model.predict(user_input_tfidf)\n",
        "\n",
        "# Show result\n",
        "if prediction[0] == 1:\n",
        "    print(\"🔴 This email is classified as: Phishing / Spam\")\n",
        "else:\n",
        "    print(\"🟢 This email is classified as: Safe / Not Phishing\")"
      ],
      "metadata": {
        "id": "gaN1oC-1ej3U",
        "outputId": "10c1e553-1ffb-4c3a-e176-c5358701ca83",
        "colab": {
          "base_uri": "https://localhost:8080/"
        }
      },
      "execution_count": null,
      "outputs": [
        {
          "output_type": "stream",
          "name": "stdout",
          "text": [
            "\n",
            "======== Email Spam Detection ========\n",
            "Enter your email text: big\n",
            "🔴 This email is classified as: Phishing / Spam\n"
          ]
        }
      ]
    },
    {
      "cell_type": "code",
      "source": [
        "from sklearn.metrics import confusion_matrix, ConfusionMatrixDisplay\n",
        "import matplotlib.pyplot as plt\n",
        "\n",
        "# Confusion matrix from the last run\n",
        "cm = confusion_matrix(y_test, y_pred)\n",
        "\n",
        "# Display it as a heatmap\n",
        "disp = ConfusionMatrixDisplay(confusion_matrix=cm, display_labels=['Safe', 'Phishing'])\n",
        "disp.plot(cmap=plt.cm.Blues)\n",
        "\n",
        "plt.title(\"Confusion Matrix (Final Run)\")\n",
        "plt.show()\n",
        "\n"
      ],
      "metadata": {
        "colab": {
          "base_uri": "https://localhost:8080/",
          "height": 472
        },
        "id": "XNBqBoN48Njw",
        "outputId": "9f5e6df6-1ddf-4d76-81f6-bb8f6de2d005"
      },
      "execution_count": null,
      "outputs": [
        {
          "output_type": "display_data",
          "data": {
            "text/plain": [
              "<Figure size 640x480 with 2 Axes>"
            ],
            "image/png": "[encoded data removed]"
          },
          "metadata": {}
        }
      ]
    }
  ]
}